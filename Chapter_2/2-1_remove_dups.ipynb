{
 "cells": [
  {
   "cell_type": "code",
   "execution_count": 138,
   "metadata": {
    "collapsed": false
   },
   "outputs": [],
   "source": [
    "#remove duplicates from unsorted linked list.\n",
    "#follow up: what if no buffer is allowed.\n",
    "\n",
    "#approch with hashtable, use extra data structure. runtime:O(n) space:O(n)\n",
    "import linked_list\n",
    "def RemoveDupsHash(ll):\n",
    "    node = ll.head\n",
    "    h = {}\n",
    "    while node.next is not None:\n",
    "        if h.has_key(node.next.data):\n",
    "            node.next = node.next.next\n",
    "        else:\n",
    "            h[node.data]=1\n",
    "            node = node.next\n",
    "    print ll\n",
    "    \n",
    "#Second approach, without buffer.Runtime: O(n2) space:O(1)\n",
    "def RemoveDups(ll):\n",
    "    node = ll.head\n",
    "    nodenext = node\n",
    "    while nodenext.next is not None:\n",
    "        if nodenext.next.data == node.data:\n",
    "            nodenext.next = nodenext.next.next \n",
    "        else:\n",
    "            nodenext = nodenext.next\n",
    "    print ll\n",
    "            \n",
    "            "
   ]
  },
  {
   "cell_type": "code",
   "execution_count": 139,
   "metadata": {
    "collapsed": false
   },
   "outputs": [
    {
     "data": {
      "text/plain": [
       "'->4->2->5->4->2->3'"
      ]
     },
     "execution_count": 139,
     "metadata": {},
     "output_type": "execute_result"
    }
   ],
   "source": [
    "ll = LinkedList()\n",
    "ll.insert(3)\n",
    "ll.insert(2)\n",
    "ll.insert(4)\n",
    "ll.insert(5)\n",
    "ll.insert(2)\n",
    "ll.insert(4)\n",
    "ll.__str__()"
   ]
  },
  {
   "cell_type": "code",
   "execution_count": 140,
   "metadata": {
    "collapsed": false
   },
   "outputs": [
    {
     "name": "stdout",
     "output_type": "stream",
     "text": [
      "->4->2->5->3\n"
     ]
    }
   ],
   "source": [
    "RemoveDupsHash(ll)"
   ]
  },
  {
   "cell_type": "code",
   "execution_count": 141,
   "metadata": {
    "collapsed": false
   },
   "outputs": [
    {
     "data": {
      "text/plain": [
       "4"
      ]
     },
     "execution_count": 141,
     "metadata": {},
     "output_type": "execute_result"
    }
   ],
   "source": [
    "ll.head.data"
   ]
  },
  {
   "cell_type": "code",
   "execution_count": 142,
   "metadata": {
    "collapsed": false
   },
   "outputs": [
    {
     "name": "stdout",
     "output_type": "stream",
     "text": [
      "->4->2->5->3\n"
     ]
    }
   ],
   "source": [
    "RemoveDups(ll)"
   ]
  },
  {
   "cell_type": "code",
   "execution_count": null,
   "metadata": {
    "collapsed": true
   },
   "outputs": [],
   "source": []
  }
 ],
 "metadata": {
  "kernelspec": {
   "display_name": "Python 2",
   "language": "python",
   "name": "python2"
  },
  "language_info": {
   "codemirror_mode": {
    "name": "ipython",
    "version": 2
   },
   "file_extension": ".py",
   "mimetype": "text/x-python",
   "name": "python",
   "nbconvert_exporter": "python",
   "pygments_lexer": "ipython2",
   "version": "2.7.10"
  }
 },
 "nbformat": 4,
 "nbformat_minor": 0
}
