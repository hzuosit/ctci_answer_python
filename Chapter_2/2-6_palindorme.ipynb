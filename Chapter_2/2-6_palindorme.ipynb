{
 "cells": [
  {
   "cell_type": "code",
   "execution_count": 59,
   "metadata": {
    "collapsed": false
   },
   "outputs": [],
   "source": [
    "#2-6 Palindrome: Implement a function to check if a linked list is a palindrome.\n",
    "from node_class import node\n",
    "from linked_list import LinkedList\n",
    "def checkpali(ll):\n",
    "    node = ll.head\n",
    "    if reverse(ll) is None or node is None:\n",
    "        return False\n",
    "    else:\n",
    "        node2 = reverse(ll).head\n",
    "        while node is not None:\n",
    "            if node.data!=node2.data:\n",
    "                return False\n",
    "            else:\n",
    "                node = node.next\n",
    "                node2 = node2.next\n",
    "    return True\n",
    "\n",
    "def reverse(ll):\n",
    "    ll2 = LinkedList()\n",
    "    node1  = ll.head\n",
    "    if node1 is None:\n",
    "        return None\n",
    "    while node1 is not None:\n",
    "        ll2.insert(node1.data)\n",
    "        node1 = node1.next\n",
    "    return ll2"
   ]
  },
  {
   "cell_type": "code",
   "execution_count": 60,
   "metadata": {
    "collapsed": false
   },
   "outputs": [
    {
     "name": "stdout",
     "output_type": "stream",
     "text": [
      "->3->4->2->5->2->4->3\n"
     ]
    }
   ],
   "source": [
    "ll = LinkedList()\n",
    "ll.insert(3)\n",
    "ll.insert(4)\n",
    "ll.insert(2)\n",
    "ll.insert(5)\n",
    "ll.insert(2)\n",
    "ll.insert(4)\n",
    "ll.insert(3)\n",
    "print ll"
   ]
  },
  {
   "cell_type": "code",
   "execution_count": 61,
   "metadata": {
    "collapsed": false
   },
   "outputs": [
    {
     "name": "stdout",
     "output_type": "stream",
     "text": [
      "->3->4->2->5->2->4->3\n"
     ]
    }
   ],
   "source": [
    "reverse(ll)\n",
    "print reverse(ll)"
   ]
  },
  {
   "cell_type": "code",
   "execution_count": 62,
   "metadata": {
    "collapsed": false
   },
   "outputs": [
    {
     "data": {
      "text/plain": [
       "True"
      ]
     },
     "execution_count": 62,
     "metadata": {},
     "output_type": "execute_result"
    }
   ],
   "source": [
    "checkpali(ll)"
   ]
  },
  {
   "cell_type": "code",
   "execution_count": 63,
   "metadata": {
    "collapsed": false
   },
   "outputs": [
    {
     "data": {
      "text/plain": [
       "False"
      ]
     },
     "execution_count": 63,
     "metadata": {},
     "output_type": "execute_result"
    }
   ],
   "source": [
    "l1 = LinkedList()\n",
    "checkpali(l1)"
   ]
  },
  {
   "cell_type": "code",
   "execution_count": null,
   "metadata": {
    "collapsed": true
   },
   "outputs": [],
   "source": []
  }
 ],
 "metadata": {
  "kernelspec": {
   "display_name": "Python 2",
   "language": "python",
   "name": "python2"
  },
  "language_info": {
   "codemirror_mode": {
    "name": "ipython",
    "version": 2
   },
   "file_extension": ".py",
   "mimetype": "text/x-python",
   "name": "python",
   "nbconvert_exporter": "python",
   "pygments_lexer": "ipython2",
   "version": "2.7.10"
  }
 },
 "nbformat": 4,
 "nbformat_minor": 0
}
