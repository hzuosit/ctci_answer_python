{
 "cells": [
  {
   "cell_type": "code",
   "execution_count": 16,
   "metadata": {
    "collapsed": false
   },
   "outputs": [],
   "source": [
    "#2-2 Return Kth to Last:\n",
    "# the recursive approach \n",
    "from linked_list import LinkedList\n",
    "def RKL(head,k):\n",
    "    if head.next is None:\n",
    "        return 0\n",
    "    index = RKL(head.next,k)+1\n",
    "    if index == k:\n",
    "        print head.data\n",
    "    return index\n",
    "#iteration approach, two pointer method\n",
    "def RKL2(ll,k):\n",
    "    node = ll.head\n",
    "    nodek = node\n",
    "    for i in xrange(0,k):\n",
    "        if nodek.next is None:\n",
    "            return False\n",
    "        else:\n",
    "            nodek = nodek.next\n",
    "    while nodek.next is not None:\n",
    "        node= node.next\n",
    "        nodek = nodek.next\n",
    "    return node.data\n"
   ]
  },
  {
   "cell_type": "code",
   "execution_count": 17,
   "metadata": {
    "collapsed": false
   },
   "outputs": [
    {
     "name": "stdout",
     "output_type": "stream",
     "text": [
      "->7->2->5->4\n"
     ]
    }
   ],
   "source": [
    "ll = LinkedList()\n",
    "ll.insert(4)\n",
    "ll.insert(5)\n",
    "ll.insert(2)\n",
    "ll.insert(7)\n",
    "print ll"
   ]
  },
  {
   "cell_type": "code",
   "execution_count": 18,
   "metadata": {
    "collapsed": false
   },
   "outputs": [
    {
     "name": "stdout",
     "output_type": "stream",
     "text": [
      "2\n"
     ]
    },
    {
     "data": {
      "text/plain": [
       "3"
      ]
     },
     "execution_count": 18,
     "metadata": {},
     "output_type": "execute_result"
    }
   ],
   "source": [
    "RKL(ll.head,2)"
   ]
  },
  {
   "cell_type": "code",
   "execution_count": 27,
   "metadata": {
    "collapsed": false
   },
   "outputs": [
    {
     "data": {
      "text/plain": [
       "4"
      ]
     },
     "execution_count": 27,
     "metadata": {},
     "output_type": "execute_result"
    }
   ],
   "source": [
    "RKL2(ll,0)"
   ]
  },
  {
   "cell_type": "code",
   "execution_count": null,
   "metadata": {
    "collapsed": true
   },
   "outputs": [],
   "source": []
  }
 ],
 "metadata": {
  "kernelspec": {
   "display_name": "Python 2",
   "language": "python",
   "name": "python2"
  },
  "language_info": {
   "codemirror_mode": {
    "name": "ipython",
    "version": 2
   },
   "file_extension": ".py",
   "mimetype": "text/x-python",
   "name": "python",
   "nbconvert_exporter": "python",
   "pygments_lexer": "ipython2",
   "version": "2.7.10"
  }
 },
 "nbformat": 4,
 "nbformat_minor": 0
}
