{
 "cells": [
  {
   "cell_type": "code",
   "execution_count": 189,
   "metadata": {
    "collapsed": false
   },
   "outputs": [],
   "source": [
    "#2-4,partition all nodes smaller than x come before all nodes greater than or equal to x.\n",
    "from linked_list import LinkedList\n",
    "def partition(ll,x):\n",
    "    node = ll.head\n",
    "    lsmall = LinkedList()\n",
    "    llarge = LinkedList()\n",
    "    while node:\n",
    "        if node.data < x:\n",
    "            lsmall.insert(node.data)\n",
    "        else:\n",
    "            llarge.insert(node.data)\n",
    "        node = node.next\n",
    "    nodes = lsmall.head\n",
    "    while nodes.next is not None:\n",
    "        nodes  = nodes.next\n",
    "    print lsmall, nodes.data"
   ]
  },
  {
   "cell_type": "code",
   "execution_count": 190,
   "metadata": {
    "collapsed": false
   },
   "outputs": [
    {
     "name": "stdout",
     "output_type": "stream",
     "text": [
      "->1->7->6->4->2\n",
      "1\n",
      "->1->7->6->4->2\n"
     ]
    }
   ],
   "source": [
    "ll = LinkedList()\n",
    "ll.insert(2)\n",
    "ll.insert(4)\n",
    "ll.insert(6)\n",
    "ll.insert(7)\n",
    "ll.insert(1)\n",
    "print ll.__str__()\n",
    "print ll.head\n",
    "print ll"
   ]
  },
  {
   "cell_type": "code",
   "execution_count": 181,
   "metadata": {
    "collapsed": false
   },
   "outputs": [
    {
     "name": "stdout",
     "output_type": "stream",
     "text": [
      "->2->4->1 1\n"
     ]
    }
   ],
   "source": [
    "partition(ll,6)"
   ]
  },
  {
   "cell_type": "code",
   "execution_count": null,
   "metadata": {
    "collapsed": true
   },
   "outputs": [],
   "source": []
  },
  {
   "cell_type": "code",
   "execution_count": null,
   "metadata": {
    "collapsed": true
   },
   "outputs": [],
   "source": []
  }
 ],
 "metadata": {
  "kernelspec": {
   "display_name": "Python 2",
   "language": "python",
   "name": "python2"
  },
  "language_info": {
   "codemirror_mode": {
    "name": "ipython",
    "version": 2
   },
   "file_extension": ".py",
   "mimetype": "text/x-python",
   "name": "python",
   "nbconvert_exporter": "python",
   "pygments_lexer": "ipython2",
   "version": "2.7.10"
  }
 },
 "nbformat": 4,
 "nbformat_minor": 0
}
