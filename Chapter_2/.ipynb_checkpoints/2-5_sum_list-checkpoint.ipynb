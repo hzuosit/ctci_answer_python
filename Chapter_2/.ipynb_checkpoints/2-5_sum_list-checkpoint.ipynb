{
 "cells": [
  {
   "cell_type": "code",
   "execution_count": 67,
   "metadata": {
    "collapsed": true
   },
   "outputs": [],
   "source": [
    "#2-5 Sum list\n",
    "from node_class import node\n",
    "from linked_list import LinkedList\n",
    "def sumlist(ll1,ll2):\n",
    "    node1 = ll1.head;node2=ll2.head\n",
    "    lls = LinkedList()\n",
    "    value = 0\n",
    "    if node1 is None and node2 is None:\n",
    "        return False\n",
    "    while node1 is not None or node2 is not None:\n",
    "        if node1 is None:\n",
    "            value += node2.data\n",
    "            node2 = node2.next\n",
    "        elif node2 is None:\n",
    "            value += node1.data\n",
    "            node1 = node1.next\n",
    "        else:\n",
    "            value += node1.data + node2.data\n",
    "            node1 = node1.next\n",
    "            node2 = node2.next\n",
    "        \n",
    "        if value >= 10:\n",
    "            result = value % 10\n",
    "            value = 1\n",
    "            lls.append(result)\n",
    "        else:\n",
    "            result = value % 10\n",
    "            value = 0\n",
    "            lls.append(result)\n",
    "                \n",
    "    print lls"
   ]
  },
  {
   "cell_type": "code",
   "execution_count": 72,
   "metadata": {
    "collapsed": true
   },
   "outputs": [],
   "source": [
    "ll1 = LinkedList()\n",
    "ll2 = LinkedList()\n",
    "ll1.insert(6);ll1.insert(1);ll1.insert(7)\n",
    "ll2.insert(2);ll2.insert(9);ll2.insert(5)"
   ]
  },
  {
   "cell_type": "code",
   "execution_count": 73,
   "metadata": {
    "collapsed": false
   },
   "outputs": [
    {
     "name": "stdout",
     "output_type": "stream",
     "text": [
      "->7->1->6 ->5->9->2\n"
     ]
    }
   ],
   "source": [
    "print ll1,ll2"
   ]
  },
  {
   "cell_type": "code",
   "execution_count": 74,
   "metadata": {
    "collapsed": false
   },
   "outputs": [
    {
     "name": "stdout",
     "output_type": "stream",
     "text": [
      "->2->1->9\n"
     ]
    }
   ],
   "source": [
    "sumlist(ll1,ll2)"
   ]
  },
  {
   "cell_type": "code",
   "execution_count": 75,
   "metadata": {
    "collapsed": false
   },
   "outputs": [
    {
     "name": "stdout",
     "output_type": "stream",
     "text": [
      "0\n"
     ]
    }
   ],
   "source": [
    "node(0)\n",
    "print node(0)"
   ]
  },
  {
   "cell_type": "code",
   "execution_count": null,
   "metadata": {
    "collapsed": true
   },
   "outputs": [],
   "source": []
  }
 ],
 "metadata": {
  "kernelspec": {
   "display_name": "Python 2",
   "language": "python",
   "name": "python2"
  },
  "language_info": {
   "codemirror_mode": {
    "name": "ipython",
    "version": 2
   },
   "file_extension": ".py",
   "mimetype": "text/x-python",
   "name": "python",
   "nbconvert_exporter": "python",
   "pygments_lexer": "ipython2",
   "version": "2.7.10"
  }
 },
 "nbformat": 4,
 "nbformat_minor": 0
}
