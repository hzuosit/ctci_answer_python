{
 "cells": [
  {
   "cell_type": "code",
   "execution_count": 22,
   "metadata": {
    "collapsed": false
   },
   "outputs": [],
   "source": [
    "from node_class import node\n",
    "class LinkedList:\n",
    "    def __init__(self):\n",
    "        self.head = None\n",
    "        self.size = 0\n",
    "        \n",
    "    def insert(self,data):\n",
    "        n = node(data)\n",
    "        n.next = self.head\n",
    "        self.head = n\n",
    "        self.size += 1\n",
    "    def append(self,data):\n",
    "        if self.head is None:\n",
    "            self.head = node(data)\n",
    "        else:\n",
    "            n = node(data)\n",
    "            n.next = None\n",
    "            nodes = self.head\n",
    "            while nodes.next is not None:\n",
    "                nodes = nodes.next\n",
    "            nodes.next = n\n",
    "        self.size +=1\n",
    "    def __len__(self):\n",
    "        return self.size\n",
    "    \n",
    "    def __str__(self):\n",
    "        node = self.head\n",
    "        result = ''\n",
    "        while node:\n",
    "            value = node.data\n",
    "            node = node.next\n",
    "            result += '->'+str(value)\n",
    "        return result"
   ]
  },
  {
   "cell_type": "code",
   "execution_count": 26,
   "metadata": {
    "collapsed": false
   },
   "outputs": [
    {
     "name": "stdout",
     "output_type": "stream",
     "text": [
      "->5->3->2->10->123\n"
     ]
    },
    {
     "data": {
      "text/plain": [
       "5"
      ]
     },
     "execution_count": 26,
     "metadata": {},
     "output_type": "execute_result"
    }
   ],
   "source": [
    "ll = LinkedList()\n",
    "ll.insert(2)\n",
    "ll.insert(3)\n",
    "ll.insert(5)\n",
    "ll.append(10)\n",
    "ll.append(123)\n",
    "print ll.__str__()\n",
    "ll.size"
   ]
  },
  {
   "cell_type": "code",
   "execution_count": 27,
   "metadata": {
    "collapsed": false
   },
   "outputs": [
    {
     "name": "stdout",
     "output_type": "stream",
     "text": [
      "->2\n"
     ]
    }
   ],
   "source": [
    "llll = LinkedList()\n",
    "llll.insert(2)\n",
    "print llll"
   ]
  },
  {
   "cell_type": "code",
   "execution_count": 28,
   "metadata": {
    "collapsed": false
   },
   "outputs": [
    {
     "name": "stdout",
     "output_type": "stream",
     "text": [
      "->10\n"
     ]
    }
   ],
   "source": [
    "lll = LinkedList()\n",
    "lll.append(10)\n",
    "print lll"
   ]
  },
  {
   "cell_type": "code",
   "execution_count": null,
   "metadata": {
    "collapsed": true
   },
   "outputs": [],
   "source": []
  }
 ],
 "metadata": {
  "kernelspec": {
   "display_name": "Python 2",
   "language": "python",
   "name": "python2"
  },
  "language_info": {
   "codemirror_mode": {
    "name": "ipython",
    "version": 2
   },
   "file_extension": ".py",
   "mimetype": "text/x-python",
   "name": "python",
   "nbconvert_exporter": "python",
   "pygments_lexer": "ipython2",
   "version": "2.7.13"
  }
 },
 "nbformat": 4,
 "nbformat_minor": 2
}
