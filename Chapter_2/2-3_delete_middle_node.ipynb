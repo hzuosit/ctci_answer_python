{
 "cells": [
  {
   "cell_type": "code",
   "execution_count": 23,
   "metadata": {
    "collapsed": false
   },
   "outputs": [],
   "source": [
    "#2-3 Delet middle node,\n",
    "from linked_list import LinkedList\n",
    "def dmn(ll,node):\n",
    "    if node == None or node.next==None:\n",
    "        return False\n",
    "    nodenext = node.next\n",
    "    node.data = nodenext.data\n",
    "    node.next = nodenext.next\n",
    "    print ll"
   ]
  },
  {
   "cell_type": "code",
   "execution_count": 29,
   "metadata": {
    "collapsed": false
   },
   "outputs": [
    {
     "name": "stdout",
     "output_type": "stream",
     "text": [
      "->1->7->6->4->2\n"
     ]
    }
   ],
   "source": [
    "ll = LinkedList()\n",
    "ll.insert(2)\n",
    "ll.insert(4)\n",
    "ll.insert(6)\n",
    "ll.insert(7)\n",
    "ll.insert(1)\n",
    "print ll"
   ]
  },
  {
   "cell_type": "code",
   "execution_count": 30,
   "metadata": {
    "collapsed": false
   },
   "outputs": [],
   "source": [
    "node = ll.head.next.next"
   ]
  },
  {
   "cell_type": "code",
   "execution_count": 32,
   "metadata": {
    "collapsed": false
   },
   "outputs": [
    {
     "name": "stdout",
     "output_type": "stream",
     "text": [
      "->1->7->4->2\n"
     ]
    }
   ],
   "source": [
    "dmn(ll,node)"
   ]
  },
  {
   "cell_type": "code",
   "execution_count": null,
   "metadata": {
    "collapsed": true
   },
   "outputs": [],
   "source": []
  }
 ],
 "metadata": {
  "kernelspec": {
   "display_name": "Python 2",
   "language": "python",
   "name": "python2"
  },
  "language_info": {
   "codemirror_mode": {
    "name": "ipython",
    "version": 2
   },
   "file_extension": ".py",
   "mimetype": "text/x-python",
   "name": "python",
   "nbconvert_exporter": "python",
   "pygments_lexer": "ipython2",
   "version": "2.7.10"
  }
 },
 "nbformat": 4,
 "nbformat_minor": 0
}
