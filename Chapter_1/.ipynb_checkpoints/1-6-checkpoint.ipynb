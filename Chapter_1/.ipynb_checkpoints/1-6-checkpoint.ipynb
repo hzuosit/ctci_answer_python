{
 "cells": [
  {
   "cell_type": "code",
   "execution_count": 1,
   "metadata": {
    "collapsed": true
   },
   "outputs": [],
   "source": [
    "#String Compression\n",
    "def SC(s):\n",
    "          s1 = s[0]\n",
    "          counter =1\n",
    "          for i in xrange(1,len(s)):\n",
    "              if s[i-1] == s[i]:\n",
    "                  if i == len(s)-1:\n",
    "                      counter +=1\n",
    "                      s1 = s1 + str(counter)\n",
    "                  else:\n",
    "                      counter +=1\n",
    "              else:\n",
    "                  s1 = s1+str(counter)+s[i]\n",
    "                  counter = 1\n",
    "          if len(s1)>len(s):\n",
    "              return s\n",
    "          else:\n",
    "              return s1"
   ]
  },
  {
   "cell_type": "code",
   "execution_count": 6,
   "metadata": {
    "collapsed": false
   },
   "outputs": [
    {
     "data": {
      "text/plain": [
       "'a7c7'"
      ]
     },
     "execution_count": 6,
     "metadata": {},
     "output_type": "execute_result"
    }
   ],
   "source": [
    "string = \"aaaaaaaccccccc\"\n",
    "SC(string)"
   ]
  },
  {
   "cell_type": "code",
   "execution_count": null,
   "metadata": {
    "collapsed": true
   },
   "outputs": [],
   "source": []
  }
 ],
 "metadata": {
  "kernelspec": {
   "display_name": "Python 2",
   "language": "python",
   "name": "python2"
  },
  "language_info": {
   "codemirror_mode": {
    "name": "ipython",
    "version": 2
   },
   "file_extension": ".py",
   "mimetype": "text/x-python",
   "name": "python",
   "nbconvert_exporter": "python",
   "pygments_lexer": "ipython2",
   "version": "2.7.13"
  }
 },
 "nbformat": 4,
 "nbformat_minor": 2
}
